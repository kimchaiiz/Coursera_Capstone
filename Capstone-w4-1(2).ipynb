{
    "cells": [
        {
            "metadata": {
                "collapsed": true
            },
            "cell_type": "markdown",
            "source": "# Capstone - week 1"
        },
        {
            "metadata": {},
            "cell_type": "markdown",
            "source": "## Introduction - Background & Problem"
        },
        {
            "metadata": {},
            "cell_type": "markdown",
            "source": "On 5 July 2021, a large chemical factory in Thailand explorded, causing 1 death, 33 injuries, and 1892 evacuatations and 1,200 milion THB in property damage."
        },
        {
            "metadata": {},
            "cell_type": "markdown",
            "source": "In this project we will try to identify the business activities located in the affected arean and assess the impact of chemical factory."
        },
        {
            "metadata": {},
            "cell_type": "markdown",
            "source": "To target people who are seriously impacted, we are looking for area in range of 5-10 km with high population density"
        },
        {
            "metadata": {},
            "cell_type": "markdown",
            "source": "## Data"
        },
        {
            "metadata": {},
            "cell_type": "markdown",
            "source": "Following are the data sources used in this project:"
        },
        {
            "metadata": {},
            "cell_type": "markdown",
            "source": "1. List of municipalities in Bangkok - provied by DOPA. the list will not contain lat / long need to use Google Maps to locate"
        },
        {
            "metadata": {},
            "cell_type": "markdown",
            "source": "2. List of poupulation density of each municipalities - provided by DOA"
        },
        {
            "metadata": {},
            "cell_type": "markdown",
            "source": "3. Foursquare API - used to retrieve venue information"
        },
        {
            "metadata": {},
            "cell_type": "markdown",
            "source": "4. Google Maps API - use to retrieve location of Bangkok"
        },
        {
            "metadata": {},
            "cell_type": "code",
            "source": "",
            "execution_count": null,
            "outputs": []
        },
        {
            "metadata": {},
            "cell_type": "code",
            "source": "",
            "execution_count": null,
            "outputs": []
        }
    ],
    "metadata": {
        "kernelspec": {
            "name": "python3",
            "display_name": "Python 3.8",
            "language": "python"
        },
        "language_info": {
            "name": "python",
            "version": "3.8.10",
            "mimetype": "text/x-python",
            "codemirror_mode": {
                "name": "ipython",
                "version": 3
            },
            "pygments_lexer": "ipython3",
            "nbconvert_exporter": "python",
            "file_extension": ".py"
        }
    },
    "nbformat": 4,
    "nbformat_minor": 1
}