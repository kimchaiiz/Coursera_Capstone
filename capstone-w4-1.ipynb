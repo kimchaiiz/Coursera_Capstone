{
    "cells": [
        {
            "cell_type": "markdown",
            "metadata": {},
            "source": "# Capstone"
        },
        {
            "cell_type": "markdown",
            "metadata": {},
            "source": "## 1. Introduction\n\n### 1.1 Background\nGenerally, everyone alway enjoy their own activity - traveling, eating, etc. So, each comunity will have some common interest in activity i.e. In college town, most of the resturant/shop around there have some common interest or top travel destinations also have some common shop. So if we can grouping / cluster location for each shop, it would be use  \n\n### 1.2 Problem\n"
        },
        {
            "cell_type": "markdown",
            "metadata": {},
            "source": "## 2 Data acquisition and cleaning\n\n### 2.1 Data sources\n\nMost of the location information - location, latitude, longtitude, city - will retreive from google API, other website i.e. wikipedia. However, most of the traffic, category data will retreive from Foursquare\n### 2.2 Data cleaning\n\nData from website extraction / API need to map/convert from text/json/table to dataframe as well as intepret missing data and outlier too.\n\n### 2.3 Feature selection\n"
        },
        {
            "cell_type": "code",
            "execution_count": null,
            "metadata": {},
            "outputs": [],
            "source": ""
        },
        {
            "cell_type": "code",
            "execution_count": null,
            "metadata": {},
            "outputs": [],
            "source": ""
        },
        {
            "cell_type": "code",
            "execution_count": null,
            "metadata": {},
            "outputs": [],
            "source": ""
        },
        {
            "cell_type": "code",
            "execution_count": null,
            "metadata": {},
            "outputs": [],
            "source": ""
        }
    ],
    "metadata": {
        "kernelspec": {
            "display_name": "Python 3.7",
            "language": "python",
            "name": "python3"
        },
        "language_info": {
            "codemirror_mode": {
                "name": "ipython",
                "version": 3
            },
            "file_extension": ".py",
            "mimetype": "text/x-python",
            "name": "python",
            "nbconvert_exporter": "python",
            "pygments_lexer": "ipython3",
            "version": "3.7.10"
        }
    },
    "nbformat": 4,
    "nbformat_minor": 1
}